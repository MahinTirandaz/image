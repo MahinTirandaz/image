{
  "nbformat": 4,
  "nbformat_minor": 0,
  "metadata": {
    "colab": {
      "provenance": [],
      "toc_visible": true
    },
    "kernelspec": {
      "name": "python3",
      "display_name": "Python 3"
    },
    "language_info": {
      "name": "python"
    }
  },
  "cells": [
    {
      "cell_type": "code",
      "execution_count": 30,
      "metadata": {
        "id": "o0DOE3powfzU"
      },
      "outputs": [],
      "source": [
        "# Import necessary libraries\n",
        "import torch\n",
        "import torchvision\n",
        "from torch.utils.data import DataLoader, Dataset\n",
        "from torchvision import transforms\n",
        "import albumentations as A\n",
        "import numpy as np\n",
        "import cv2\n",
        "import matplotlib.pyplot as plt\n",
        "import os\n",
        "import torch.nn as nn\n",
        "import torch.nn.functional as F"
      ]
    },
    {
      "cell_type": "code",
      "source": [
        "# Mount Google Drive\n",
        "from google.colab import drive\n",
        "drive.mount('/content/drive')"
      ],
      "metadata": {
        "colab": {
          "base_uri": "https://localhost:8080/"
        },
        "id": "rA2ZCeWmwy51",
        "outputId": "15d14bcd-8ea0-4226-8cc6-5019110f5eab"
      },
      "execution_count": 9,
      "outputs": [
        {
          "output_type": "stream",
          "name": "stdout",
          "text": [
            "Drive already mounted at /content/drive; to attempt to forcibly remount, call drive.mount(\"/content/drive\", force_remount=True).\n"
          ]
        }
      ]
    },
    {
      "cell_type": "code",
      "source": [
        "# Set the paths to your dataset folders\n",
        "images_path = '/content/drive/MyDrive/Colab Notebooks/Image'\n",
        "masks_path = '/content/drive/MyDrive/Colab Notebooks/Mask'\n"
      ],
      "metadata": {
        "id": "Srgd8Xgl3LzZ"
      },
      "execution_count": 18,
      "outputs": []
    },
    {
      "cell_type": "code",
      "source": [
        "# Load and preprocess dataset\n",
        "class CarDataset(Dataset):\n",
        "    def __init__(self, images, masks, transform=None):\n",
        "        self.images = images\n",
        "        self.masks = masks\n",
        "        self.transform = transform\n",
        "\n",
        "    def __len__(self):\n",
        "        return len(self.images)\n",
        "\n",
        "    def __getitem__(self, idx):\n",
        "        image = cv2.imread(self.images[idx])\n",
        "        mask = cv2.imread(self.masks[idx], cv2.IMREAD_GRAYSCALE)\n",
        "        if self.transform:\n",
        "            augmented = self.transform(image=image, mask=mask)\n",
        "            image = augmented['image']\n",
        "            mask = augmented['mask']\n",
        "        image = transforms.ToTensor()(image)\n",
        "        mask = torch.tensor(mask, dtype=torch.float32).unsqueeze(0)\n",
        "        return image, mask"
      ],
      "metadata": {
        "id": "kNH_4obdxhfi"
      },
      "execution_count": 19,
      "outputs": []
    },
    {
      "cell_type": "code",
      "source": [
        "# Collect image and mask paths\n",
        "image_files = sorted([os.path.join(images_path, file) for file in os.listdir(images_path)])\n",
        "mask_files = sorted([os.path.join(masks_path, file) for file in os.listdir(masks_path)])\n"
      ],
      "metadata": {
        "id": "oVgPI7PZx0XV"
      },
      "execution_count": 20,
      "outputs": []
    },
    {
      "cell_type": "code",
      "source": [
        "# Split the dataset into training and validation sets\n",
        "train_images = image_files[:15]\n",
        "train_masks = mask_files[:15]\n",
        "val_images = image_files[15:]\n",
        "val_masks = mask_files[15:]\n"
      ],
      "metadata": {
        "id": "2Y-rmLfMyC6y"
      },
      "execution_count": 21,
      "outputs": []
    },
    {
      "cell_type": "code",
      "source": [
        "# Define data augmentation\n",
        "train_transform = A.Compose([\n",
        "    A.Resize(320, 320),\n",
        "    A.HorizontalFlip(p=0.5),\n",
        "    A.Rotate(limit=35, p=0.5),\n",
        "    A.RandomBrightnessContrast(p=0.2),\n",
        "])\n",
        "\n",
        "val_transform = A.Compose([\n",
        "    A.Resize(320, 320)\n",
        "])\n"
      ],
      "metadata": {
        "id": "ec0ICvUM5iFr"
      },
      "execution_count": 23,
      "outputs": []
    },
    {
      "cell_type": "code",
      "source": [
        "# Load the dataset\n",
        "train_dataset = CarDataset(train_images, train_masks, transform=train_transform)\n",
        "val_dataset = CarDataset(val_images, val_masks, transform=val_transform)\n",
        "train_loader = DataLoader(train_dataset, batch_size=4, shuffle=True)\n",
        "val_loader = DataLoader(val_dataset, batch_size=4, shuffle=False)\n"
      ],
      "metadata": {
        "id": "Rkq-puWh5nHM"
      },
      "execution_count": 24,
      "outputs": []
    },
    {
      "cell_type": "code",
      "source": [
        "# Define the U-2-Net model (simplified version for example purposes)\n",
        "class U2NET(torch.nn.Module):\n",
        "    # Define the architecture\n",
        "    def __init__(self):\n",
        "        super(U2NET, self).__init__()\n",
        "        # Model layers (example layers)\n",
        "        self.layer1 = torch.nn.Conv2d(3, 64, kernel_size=3, padding=1)\n",
        "        self.layer2 = torch.nn.Conv2d(64, 1, kernel_size=3, padding=1)\n"
      ],
      "metadata": {
        "id": "L3gHnCaa5zLI"
      },
      "execution_count": 25,
      "outputs": []
    },
    {
      "cell_type": "code",
      "source": [
        "def forward(self, x):\n",
        "        # Forward pass (example pass)\n",
        "        x = self.layer1(x)\n",
        "        x = torch.nn.functional.relu(x)\n",
        "        x = self.layer2(x)\n",
        "        return x\n"
      ],
      "metadata": {
        "id": "2aFUFPlT58i4"
      },
      "execution_count": 26,
      "outputs": []
    },
    {
      "cell_type": "code",
      "source": [
        "# Initialize the model, loss function, optimizer\n",
        "model = U2NET()\n",
        "criterion = torch.nn.BCEWithLogitsLoss()\n",
        "optimizer = torch.optim.Adam(model.parameters(), lr=1e-4)\n"
      ],
      "metadata": {
        "id": "345YpLNn6CC0"
      },
      "execution_count": 27,
      "outputs": []
    },
    {
      "cell_type": "code",
      "source": [
        "class U2NET(nn.Module):\n",
        "    def __init__(self):\n",
        "        super(U2NET, self).__init__()\n",
        "\n",
        "        # Example layers, ensure to use a suitable architecture\n",
        "        self.layer1 = nn.Conv2d(3, 64, kernel_size=3, padding=1)\n",
        "        self.layer2 = nn.Conv2d(64, 64, kernel_size=3, padding=1)\n",
        "        self.layer3 = nn.Conv2d(64, 1, kernel_size=3, padding=1)\n",
        "        self.pool = nn.MaxPool2d(kernel_size=2, stride=2, padding=0)\n",
        "        self.relu = nn.ReLU()\n",
        "        self.upsample = nn.Upsample(size=(320, 320), mode='bilinear', align_corners=False)\n",
        "\n",
        "    def forward(self, x):\n",
        "        x1 = self.relu(self.layer1(x))\n",
        "        x2 = self.pool(x1)\n",
        "        x3 = self.relu(self.layer2(x2))\n",
        "        x4 = self.pool(x3)\n",
        "        x5 = self.layer3(x4)\n",
        "        x6 = self.upsample(x5)\n",
        "        return x6"
      ],
      "metadata": {
        "id": "QzkiLA6-66AY"
      },
      "execution_count": 35,
      "outputs": []
    },
    {
      "cell_type": "code",
      "source": [
        "# Initialize the model, loss function, optimizer\n",
        "model = U2NET()\n",
        "criterion = torch.nn.BCEWithLogitsLoss()\n",
        "optimizer = torch.optim.Adam(model.parameters(), lr=1e-4)"
      ],
      "metadata": {
        "id": "ZdcTWoKk7_dX"
      },
      "execution_count": 36,
      "outputs": []
    },
    {
      "cell_type": "code",
      "source": [
        "# Training loop\n",
        "num_epochs = 50\n",
        "for epoch in range(num_epochs):\n",
        "    model.train()\n",
        "    for images, masks in train_loader:\n",
        "        outputs = model(images)\n",
        "        loss = criterion(outputs, masks)\n",
        "        optimizer.zero_grad()\n",
        "        loss.backward()\n",
        "        optimizer.step()\n",
        "\n",
        "    print(f\"Epoch [{epoch+1}/{num_epochs}], Loss: {loss.item()}\")"
      ],
      "metadata": {
        "colab": {
          "base_uri": "https://localhost:8080/"
        },
        "id": "FPXI4oe36GWX",
        "outputId": "f2dc3a72-2c44-47cf-f6f1-284093d457b6"
      },
      "execution_count": 37,
      "outputs": [
        {
          "output_type": "stream",
          "name": "stdout",
          "text": [
            "Epoch [1/50], Loss: -8.911231994628906\n",
            "Validation Loss: -10.757533550262451\n",
            "Epoch [2/50], Loss: -6.8117570877075195\n",
            "Validation Loss: -18.579498291015625\n",
            "Epoch [3/50], Loss: -16.330303192138672\n",
            "Validation Loss: -26.50821590423584\n",
            "Epoch [4/50], Loss: -29.21695899963379\n",
            "Validation Loss: -35.128211975097656\n",
            "Epoch [5/50], Loss: -28.424144744873047\n",
            "Validation Loss: -44.442827224731445\n",
            "Epoch [6/50], Loss: -29.659502029418945\n",
            "Validation Loss: -54.87681198120117\n",
            "Epoch [7/50], Loss: -44.93117141723633\n",
            "Validation Loss: -66.86785888671875\n",
            "Epoch [8/50], Loss: -67.77555847167969\n",
            "Validation Loss: -80.82323455810547\n",
            "Epoch [9/50], Loss: -47.687164306640625\n",
            "Validation Loss: -97.2643928527832\n",
            "Epoch [10/50], Loss: -64.71105194091797\n",
            "Validation Loss: -115.95880889892578\n",
            "Epoch [11/50], Loss: -81.6934585571289\n",
            "Validation Loss: -137.3051528930664\n",
            "Epoch [12/50], Loss: -87.28239440917969\n",
            "Validation Loss: -161.58667755126953\n",
            "Epoch [13/50], Loss: -140.74444580078125\n",
            "Validation Loss: -188.69581604003906\n",
            "Epoch [14/50], Loss: -174.96514892578125\n",
            "Validation Loss: -219.78265380859375\n",
            "Epoch [15/50], Loss: -135.6623992919922\n",
            "Validation Loss: -255.14141845703125\n",
            "Epoch [16/50], Loss: -202.59275817871094\n",
            "Validation Loss: -294.6587677001953\n",
            "Epoch [17/50], Loss: -252.70872497558594\n",
            "Validation Loss: -339.2484436035156\n",
            "Epoch [18/50], Loss: -213.87913513183594\n",
            "Validation Loss: -389.18836975097656\n",
            "Epoch [19/50], Loss: -313.62030029296875\n",
            "Validation Loss: -444.31866455078125\n",
            "Epoch [20/50], Loss: -281.1502685546875\n",
            "Validation Loss: -505.67884826660156\n",
            "Epoch [21/50], Loss: -354.7940979003906\n",
            "Validation Loss: -573.5354919433594\n",
            "Epoch [22/50], Loss: -373.4733581542969\n",
            "Validation Loss: -649.0536804199219\n",
            "Epoch [23/50], Loss: -375.5569152832031\n",
            "Validation Loss: -731.0791625976562\n",
            "Epoch [24/50], Loss: -420.9708251953125\n",
            "Validation Loss: -820.4827270507812\n",
            "Epoch [25/50], Loss: -696.859375\n",
            "Validation Loss: -916.810791015625\n",
            "Epoch [26/50], Loss: -968.39501953125\n",
            "Validation Loss: -1023.1148376464844\n",
            "Epoch [27/50], Loss: -873.0779418945312\n",
            "Validation Loss: -1139.28857421875\n",
            "Epoch [28/50], Loss: -775.309814453125\n",
            "Validation Loss: -1266.058349609375\n",
            "Epoch [29/50], Loss: -1253.7562255859375\n",
            "Validation Loss: -1401.873779296875\n",
            "Epoch [30/50], Loss: -1335.5633544921875\n",
            "Validation Loss: -1550.2008056640625\n",
            "Epoch [31/50], Loss: -1731.9542236328125\n",
            "Validation Loss: -1710.0773315429688\n",
            "Epoch [32/50], Loss: -1041.1566162109375\n",
            "Validation Loss: -1885.9869384765625\n",
            "Epoch [33/50], Loss: -1896.7266845703125\n",
            "Validation Loss: -2072.0128784179688\n",
            "Epoch [34/50], Loss: -1002.6836547851562\n",
            "Validation Loss: -2276.08544921875\n",
            "Epoch [35/50], Loss: -1518.3887939453125\n",
            "Validation Loss: -2487.76416015625\n",
            "Epoch [36/50], Loss: -2035.9171142578125\n",
            "Validation Loss: -2717.467041015625\n",
            "Epoch [37/50], Loss: -1598.310302734375\n",
            "Validation Loss: -2966.34423828125\n",
            "Epoch [38/50], Loss: -3101.03955078125\n",
            "Validation Loss: -3228.7957763671875\n",
            "Epoch [39/50], Loss: -1865.8260498046875\n",
            "Validation Loss: -3514.5848388671875\n",
            "Epoch [40/50], Loss: -2626.45654296875\n",
            "Validation Loss: -3815.54833984375\n",
            "Epoch [41/50], Loss: -3599.705322265625\n",
            "Validation Loss: -4132.584228515625\n",
            "Epoch [42/50], Loss: -2656.002197265625\n",
            "Validation Loss: -4473.102294921875\n",
            "Epoch [43/50], Loss: -3554.430908203125\n",
            "Validation Loss: -4833.81982421875\n",
            "Epoch [44/50], Loss: -3746.0625\n",
            "Validation Loss: -5210.3837890625\n",
            "Epoch [45/50], Loss: -3633.297607421875\n",
            "Validation Loss: -5612.712646484375\n",
            "Epoch [46/50], Loss: -3913.362060546875\n",
            "Validation Loss: -6038.53369140625\n",
            "Epoch [47/50], Loss: -3480.96240234375\n",
            "Validation Loss: -6493.92919921875\n",
            "Epoch [48/50], Loss: -5427.59619140625\n",
            "Validation Loss: -6973.752197265625\n",
            "Epoch [49/50], Loss: -4084.268310546875\n",
            "Validation Loss: -7475.935791015625\n",
            "Epoch [50/50], Loss: -5301.10107421875\n",
            "Validation Loss: -8000.584228515625\n"
          ]
        }
      ]
    },
    {
      "cell_type": "code",
      "source": [
        "# Save model weights\n",
        "torch.save(model.state_dict(), '/content/drive/My Drive/u2net_bce.pth')\n"
      ],
      "metadata": {
        "id": "8IfPqKWr6PWd"
      },
      "execution_count": 38,
      "outputs": []
    },
    {
      "cell_type": "code",
      "source": [
        "# Retrain with Dice Loss\n",
        "def dice_loss(pred, target):\n",
        "    smooth = 1.\n",
        "    pred = pred.contiguous()\n",
        "    target = target.contiguous()\n",
        "    intersection = (pred * target).sum(dim=2).sum(dim=2)\n",
        "    loss = (1 - ((2. * intersection + smooth) / (pred.sum(dim=2).sum(dim=2) + target.sum(dim=2).sum(dim=2) + smooth)))\n",
        "    return loss.mean()\n",
        " # Retrain loop\n",
        "for epoch in range(num_epochs):\n",
        "    model.train()\n",
        "    for images, masks in train_loader:\n",
        "        outputs = model(images)\n",
        "        loss = dice_loss(outputs, masks)\n",
        "        optimizer.zero_grad()\n",
        "        loss.backward()\n",
        "        optimizer.step()\n",
        "\n",
        "    print(f\"Epoch [{epoch+1}/{num_epochs}], Loss: {loss.item()}\")"
      ],
      "metadata": {
        "colab": {
          "base_uri": "https://localhost:8080/"
        },
        "id": "bquB0aB09uyn",
        "outputId": "76b0e380-8581-45f3-ec73-87967f3ad647"
      },
      "execution_count": 41,
      "outputs": [
        {
          "output_type": "stream",
          "name": "stdout",
          "text": [
            "Epoch [1/50], Loss: -66.46603393554688\n",
            "Epoch [2/50], Loss: -73.6058578491211\n",
            "Epoch [3/50], Loss: -88.62227630615234\n",
            "Epoch [4/50], Loss: -47.08443832397461\n",
            "Epoch [5/50], Loss: -56.524322509765625\n",
            "Epoch [6/50], Loss: -56.420074462890625\n",
            "Epoch [7/50], Loss: -81.8553237915039\n",
            "Epoch [8/50], Loss: -98.09827423095703\n",
            "Epoch [9/50], Loss: -64.67813110351562\n",
            "Epoch [10/50], Loss: -49.28407287597656\n",
            "Epoch [11/50], Loss: -69.64627838134766\n",
            "Epoch [12/50], Loss: -55.13887023925781\n",
            "Epoch [13/50], Loss: -74.49468994140625\n",
            "Epoch [14/50], Loss: -91.88626098632812\n",
            "Epoch [15/50], Loss: -76.61913299560547\n",
            "Epoch [16/50], Loss: -62.3514289855957\n",
            "Epoch [17/50], Loss: -73.70559692382812\n",
            "Epoch [18/50], Loss: -67.34445190429688\n",
            "Epoch [19/50], Loss: -77.14444732666016\n",
            "Epoch [20/50], Loss: -72.69139862060547\n",
            "Epoch [21/50], Loss: -75.86194610595703\n",
            "Epoch [22/50], Loss: -73.84868621826172\n",
            "Epoch [23/50], Loss: -64.72649383544922\n",
            "Epoch [24/50], Loss: -99.17523193359375\n",
            "Epoch [25/50], Loss: -81.20262908935547\n",
            "Epoch [26/50], Loss: -74.7433853149414\n",
            "Epoch [27/50], Loss: -46.6933479309082\n",
            "Epoch [28/50], Loss: -59.6773567199707\n",
            "Epoch [29/50], Loss: -89.59954071044922\n",
            "Epoch [30/50], Loss: -57.368038177490234\n",
            "Epoch [31/50], Loss: -74.99271392822266\n",
            "Epoch [32/50], Loss: -57.40000915527344\n",
            "Epoch [33/50], Loss: -58.12156295776367\n",
            "Epoch [34/50], Loss: -82.24053955078125\n",
            "Epoch [35/50], Loss: -56.78190231323242\n",
            "Epoch [36/50], Loss: -73.32049560546875\n",
            "Epoch [37/50], Loss: -67.5562744140625\n",
            "Epoch [38/50], Loss: -64.20769500732422\n",
            "Epoch [39/50], Loss: -56.31486892700195\n",
            "Epoch [40/50], Loss: -51.26911544799805\n",
            "Epoch [41/50], Loss: -68.30113983154297\n",
            "Epoch [42/50], Loss: -75.6512222290039\n",
            "Epoch [43/50], Loss: -86.38018798828125\n",
            "Epoch [44/50], Loss: -70.25475311279297\n",
            "Epoch [45/50], Loss: -81.50802612304688\n",
            "Epoch [46/50], Loss: -72.50951385498047\n",
            "Epoch [47/50], Loss: -75.49137115478516\n",
            "Epoch [48/50], Loss: -64.70851135253906\n",
            "Epoch [49/50], Loss: -92.27007293701172\n",
            "Epoch [50/50], Loss: -72.92080688476562\n"
          ]
        }
      ]
    },
    {
      "cell_type": "code",
      "source": [
        " # Validation loop\n",
        "model.eval()\n",
        "val_loss = 0\n",
        "with torch.no_grad():\n",
        "   for images, masks in val_loader:\n",
        "     outputs = model(images)\n",
        "     loss = dice_loss(outputs, masks)\n",
        "     val_loss += loss.item()\n",
        "\n",
        "val_loss /= len(val_loader)\n",
        "print(f\"Validation Loss: {val_loss}\")"
      ],
      "metadata": {
        "colab": {
          "base_uri": "https://localhost:8080/"
        },
        "id": "2irdJut_-KnW",
        "outputId": "71b4398e-2793-4fae-adf3-f4bcbbf9f957"
      },
      "execution_count": 49,
      "outputs": [
        {
          "output_type": "stream",
          "name": "stdout",
          "text": [
            "Validation Loss: -91.33919906616211\n"
          ]
        }
      ]
    },
    {
      "cell_type": "code",
      "source": [
        "# Save retrained model weights\n",
        "torch.save(model.state_dict(), '/content/drive/My Drive/u2net_dice.pth')"
      ],
      "metadata": {
        "id": "2KqIvkVY_uO2"
      },
      "execution_count": 50,
      "outputs": []
    },
    {
      "cell_type": "code",
      "source": [],
      "metadata": {
        "id": "7J9TEuk_BMeD"
      },
      "execution_count": null,
      "outputs": []
    }
  ]
}